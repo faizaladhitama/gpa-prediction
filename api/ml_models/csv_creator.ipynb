{
 "cells": [
  {
   "cell_type": "code",
   "execution_count": 2,
   "metadata": {},
   "outputs": [],
   "source": [
    "from sklearn.naive_bayes import GaussianNB\n",
    "from sklearn.cross_validation import train_test_split\n",
    "import pandas as pd\n",
    "import numpy as np"
   ]
  },
  {
   "cell_type": "code",
   "execution_count": 8,
   "metadata": {},
   "outputs": [],
   "source": [
    "a = pd.read_csv('kesetaraan.csv', delimiter='\\t')"
   ]
  },
  {
   "cell_type": "code",
   "execution_count": 12,
   "metadata": {},
   "outputs": [
    {
     "data": {
      "text/html": [
       "<div>\n",
       "<style scoped>\n",
       "    .dataframe tbody tr th:only-of-type {\n",
       "        vertical-align: middle;\n",
       "    }\n",
       "\n",
       "    .dataframe tbody tr th {\n",
       "        vertical-align: top;\n",
       "    }\n",
       "\n",
       "    .dataframe thead th {\n",
       "        text-align: right;\n",
       "    }\n",
       "</style>\n",
       "<table border=\"1\" class=\"dataframe\">\n",
       "  <thead>\n",
       "    <tr style=\"text-align: right;\">\n",
       "      <th></th>\n",
       "      <th>no</th>\n",
       "      <th>kd_asli</th>\n",
       "      <th>krk_lama</th>\n",
       "      <th>kd_pasangan</th>\n",
       "      <th>krk_pasangan</th>\n",
       "    </tr>\n",
       "  </thead>\n",
       "  <tbody>\n",
       "    <tr>\n",
       "      <th>0</th>\n",
       "      <td>2</td>\n",
       "      <td>IKI10030</td>\n",
       "      <td>01.00.12.01-2009</td>\n",
       "      <td>FSK10111</td>\n",
       "      <td>06.00.12.01-2010</td>\n",
       "    </tr>\n",
       "    <tr>\n",
       "      <th>1</th>\n",
       "      <td>3</td>\n",
       "      <td>IKI10030</td>\n",
       "      <td>01.00.12.01-2009</td>\n",
       "      <td>FSK10111</td>\n",
       "      <td>08.00.12.01-2011</td>\n",
       "    </tr>\n",
       "    <tr>\n",
       "      <th>2</th>\n",
       "      <td>4</td>\n",
       "      <td>IKI10030</td>\n",
       "      <td>01.00.12.01-2009</td>\n",
       "      <td>IKI10030</td>\n",
       "      <td>01.00.12.01-2002</td>\n",
       "    </tr>\n",
       "    <tr>\n",
       "      <th>3</th>\n",
       "      <td>5</td>\n",
       "      <td>IKI10030</td>\n",
       "      <td>01.00.12.01-2009</td>\n",
       "      <td>IKI10030</td>\n",
       "      <td>01.00.12.01-2006</td>\n",
       "    </tr>\n",
       "    <tr>\n",
       "      <th>4</th>\n",
       "      <td>6</td>\n",
       "      <td>IKI10030</td>\n",
       "      <td>01.00.12.01-2009</td>\n",
       "      <td>UIST601111</td>\n",
       "      <td>01.00.12.01-2012</td>\n",
       "    </tr>\n",
       "  </tbody>\n",
       "</table>\n",
       "</div>"
      ],
      "text/plain": [
       "   no   kd_asli          krk_lama kd_pasangan      krk_pasangan\n",
       "0   2  IKI10030  01.00.12.01-2009    FSK10111  06.00.12.01-2010\n",
       "1   3  IKI10030  01.00.12.01-2009    FSK10111  08.00.12.01-2011\n",
       "2   4  IKI10030  01.00.12.01-2009    IKI10030  01.00.12.01-2002\n",
       "3   5  IKI10030  01.00.12.01-2009    IKI10030  01.00.12.01-2006\n",
       "4   6  IKI10030  01.00.12.01-2009  UIST601111  01.00.12.01-2012"
      ]
     },
     "execution_count": 12,
     "metadata": {},
     "output_type": "execute_result"
    }
   ],
   "source": [
    "a.head()"
   ]
  },
  {
   "cell_type": "code",
   "execution_count": 11,
   "metadata": {},
   "outputs": [],
   "source": [
    "a.columns = ['no', 'kd_asli', 'krk_lama', 'kd_pasangan', 'krk_pasangan' ]"
   ]
  },
  {
   "cell_type": "code",
   "execution_count": null,
   "metadata": {},
   "outputs": [],
   "source": []
  }
 ],
 "metadata": {
  "kernelspec": {
   "display_name": "Python 3",
   "language": "python",
   "name": "python3"
  },
  "language_info": {
   "codemirror_mode": {
    "name": "ipython",
    "version": 3
   },
   "file_extension": ".py",
   "mimetype": "text/x-python",
   "name": "python",
   "nbconvert_exporter": "python",
   "pygments_lexer": "ipython3",
   "version": "3.6.4"
  }
 },
 "nbformat": 4,
 "nbformat_minor": 2
}
