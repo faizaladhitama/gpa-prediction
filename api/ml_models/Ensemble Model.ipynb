{
 "cells": [
  {
   "cell_type": "code",
   "execution_count": 36,
   "metadata": {},
   "outputs": [],
   "source": [
    "import pandas as pd\n",
    "import numpy as np\n",
    "\n",
    "from sklearn.cross_validation import train_test_split\n",
    "from sklearn.ensemble import BaggingClassifier\n",
    "from sklearn.ensemble import RandomForestClassifier\n",
    "from sklearn.ensemble import ExtraTreesClassifier\n",
    "from sklearn.ensemble import AdaBoostClassifier\n",
    "from sklearn.ensemble import GradientBoostingClassifier\n",
    "from sklearn.ensemble import VotingClassifier\n",
    "from sklearn.metrics import confusion_matrix,\\\n",
    "    recall_score,precision_recall_curve,auc,roc_curve,\\\n",
    "    roc_auc_score,classification_report,accuracy_score,\\\n",
    "    precision_score\n",
    "from sklearn.metrics import precision_recall_fscore_support as score\n",
    "from sklearn.naive_bayes import GaussianNB\n",
    "from sklearn.neighbors import KNeighborsClassifier\n",
    "from sklearn.tree import DecisionTreeClassifier"
   ]
  },
  {
   "cell_type": "code",
   "execution_count": 2,
   "metadata": {},
   "outputs": [
    {
     "data": {
      "text/html": [
       "<div>\n",
       "<style scoped>\n",
       "    .dataframe tbody tr th:only-of-type {\n",
       "        vertical-align: middle;\n",
       "    }\n",
       "\n",
       "    .dataframe tbody tr th {\n",
       "        vertical-align: top;\n",
       "    }\n",
       "\n",
       "    .dataframe thead th {\n",
       "        text-align: right;\n",
       "    }\n",
       "</style>\n",
       "<table border=\"1\" class=\"dataframe\">\n",
       "  <thead>\n",
       "    <tr style=\"text-align: right;\">\n",
       "      <th></th>\n",
       "      <th>mean_pras</th>\n",
       "    </tr>\n",
       "    <tr>\n",
       "      <th>y</th>\n",
       "      <th></th>\n",
       "    </tr>\n",
       "  </thead>\n",
       "  <tbody>\n",
       "    <tr>\n",
       "      <th>hati hati</th>\n",
       "      <td>624</td>\n",
       "    </tr>\n",
       "    <tr>\n",
       "      <th>lulus</th>\n",
       "      <td>907</td>\n",
       "    </tr>\n",
       "    <tr>\n",
       "      <th>tidak lulus</th>\n",
       "      <td>27</td>\n",
       "    </tr>\n",
       "  </tbody>\n",
       "</table>\n",
       "</div>"
      ],
      "text/plain": [
       "             mean_pras\n",
       "y                     \n",
       "hati hati          624\n",
       "lulus              907\n",
       "tidak lulus         27"
      ]
     },
     "execution_count": 2,
     "metadata": {},
     "output_type": "execute_result"
    }
   ],
   "source": [
    "data = pd.read_csv('final.csv')\n",
    "used = data.loc[:,['mean_pras', 'y']]\n",
    "used.groupby('y').count()"
   ]
  },
  {
   "cell_type": "code",
   "execution_count": 3,
   "metadata": {},
   "outputs": [],
   "source": [
    "used = used.dropna()"
   ]
  },
  {
   "cell_type": "code",
   "execution_count": 4,
   "metadata": {},
   "outputs": [
    {
     "data": {
      "text/html": [
       "<div>\n",
       "<style scoped>\n",
       "    .dataframe tbody tr th:only-of-type {\n",
       "        vertical-align: middle;\n",
       "    }\n",
       "\n",
       "    .dataframe tbody tr th {\n",
       "        vertical-align: top;\n",
       "    }\n",
       "\n",
       "    .dataframe thead th {\n",
       "        text-align: right;\n",
       "    }\n",
       "</style>\n",
       "<table border=\"1\" class=\"dataframe\">\n",
       "  <thead>\n",
       "    <tr style=\"text-align: right;\">\n",
       "      <th></th>\n",
       "      <th>mean_pras</th>\n",
       "    </tr>\n",
       "    <tr>\n",
       "      <th>y</th>\n",
       "      <th></th>\n",
       "    </tr>\n",
       "  </thead>\n",
       "  <tbody>\n",
       "    <tr>\n",
       "      <th>hati hati</th>\n",
       "      <td>624</td>\n",
       "    </tr>\n",
       "    <tr>\n",
       "      <th>lulus</th>\n",
       "      <td>907</td>\n",
       "    </tr>\n",
       "    <tr>\n",
       "      <th>tidak lulus</th>\n",
       "      <td>27</td>\n",
       "    </tr>\n",
       "  </tbody>\n",
       "</table>\n",
       "</div>"
      ],
      "text/plain": [
       "             mean_pras\n",
       "y                     \n",
       "hati hati          624\n",
       "lulus              907\n",
       "tidak lulus         27"
      ]
     },
     "execution_count": 4,
     "metadata": {},
     "output_type": "execute_result"
    }
   ],
   "source": [
    "used.groupby('y').count()"
   ]
  },
  {
   "cell_type": "markdown",
   "metadata": {},
   "source": [
    "# Dengan Normalisasi"
   ]
  },
  {
   "cell_type": "code",
   "execution_count": 7,
   "metadata": {},
   "outputs": [],
   "source": [
    "col = 'mean_pras'\n",
    "col_zscore = col\n",
    "used[col_zscore] = (used[col] - used[col].mean())/used[col].std(ddof=0)"
   ]
  },
  {
   "cell_type": "markdown",
   "metadata": {},
   "source": [
    "# Tanpa Over Sampling"
   ]
  },
  {
   "cell_type": "code",
   "execution_count": 75,
   "metadata": {},
   "outputs": [],
   "source": [
    "target = used['y']\n",
    "features = used['mean_pras']\n",
    "features_train, features_test, target_train, target_test = train_test_split(features, target, test_size=0.3, random_state=10)"
   ]
  },
  {
   "cell_type": "markdown",
   "metadata": {},
   "source": [
    "# Dengan Over Sampling"
   ]
  },
  {
   "cell_type": "code",
   "execution_count": 68,
   "metadata": {},
   "outputs": [],
   "source": [
    "from imblearn.over_sampling import SMOTE \n",
    "target = used['y']\n",
    "features = used['mean_pras']\n",
    "features_train, features_test, target_train, target_test = train_test_split(features, target, test_size=0.3, random_state=10)\n",
    "\n",
    "sm = SMOTE(random_state=20)\n",
    "features_train, target_train = sm.fit_sample(features_train.values.reshape(-1, 1), target_train)"
   ]
  },
  {
   "cell_type": "markdown",
   "metadata": {},
   "source": [
    "# Random Forest"
   ]
  },
  {
   "cell_type": "code",
   "execution_count": 78,
   "metadata": {},
   "outputs": [
    {
     "name": "stdout",
     "output_type": "stream",
     "text": [
      "accuracy : 0.5854700854700855\n",
      "precision: [0.42857143 0.58785249 0.        ]\n",
      "recall: [0.01630435 0.98545455 0.        ]\n",
      "fscore: [0.03141361 0.73641304 0.        ]\n",
      "support: [184 275   9]\n"
     ]
    },
    {
     "name": "stderr",
     "output_type": "stream",
     "text": [
      "C:\\Users\\ASUS\\Anaconda3\\lib\\site-packages\\sklearn\\metrics\\classification.py:1135: UndefinedMetricWarning: Precision and F-score are ill-defined and being set to 0.0 in labels with no predicted samples.\n",
      "  'precision', 'predicted', average, warn_for)\n"
     ]
    },
    {
     "data": {
      "text/plain": [
       "array([[  3, 181,   0],\n",
       "       [  4, 271,   0],\n",
       "       [  0,   9,   0]], dtype=int64)"
      ]
     },
     "execution_count": 78,
     "metadata": {},
     "output_type": "execute_result"
    }
   ],
   "source": [
    "clf = RandomForestClassifier(n_estimators=600, random_state=100, min_samples_split=3)\n",
    "clf = clf.fit(features_train.values.reshape(-1, 1), target_train)\n",
    "y_pred = clf.predict(features_test.values.reshape(-1, 1))\n",
    "\n",
    "precision, recall, fscore, support = score(target_test, y_pred)\n",
    "\n",
    "print(\"accuracy : {}\".format(accuracy_score(target_test, y_pred)))\n",
    "print('precision: {}'.format(precision))\n",
    "print('recall: {}'.format(recall))\n",
    "print('fscore: {}'.format(fscore))\n",
    "print('support: {}'.format(support))\n",
    "\n",
    "confusion_matrix(target_test, y_pred)"
   ]
  },
  {
   "cell_type": "markdown",
   "metadata": {},
   "source": [
    "# Extra Trees"
   ]
  },
  {
   "cell_type": "code",
   "execution_count": 79,
   "metadata": {},
   "outputs": [
    {
     "name": "stdout",
     "output_type": "stream",
     "text": [
      "accuracy : 0.5854700854700855\n",
      "precision: [0.42857143 0.58785249 0.        ]\n",
      "recall: [0.01630435 0.98545455 0.        ]\n",
      "fscore: [0.03141361 0.73641304 0.        ]\n",
      "support: [184 275   9]\n"
     ]
    },
    {
     "name": "stderr",
     "output_type": "stream",
     "text": [
      "C:\\Users\\ASUS\\Anaconda3\\lib\\site-packages\\sklearn\\metrics\\classification.py:1135: UndefinedMetricWarning: Precision and F-score are ill-defined and being set to 0.0 in labels with no predicted samples.\n",
      "  'precision', 'predicted', average, warn_for)\n"
     ]
    },
    {
     "data": {
      "text/plain": [
       "array([[  3, 181,   0],\n",
       "       [  4, 271,   0],\n",
       "       [  0,   9,   0]], dtype=int64)"
      ]
     },
     "execution_count": 79,
     "metadata": {},
     "output_type": "execute_result"
    }
   ],
   "source": [
    "clf = ExtraTreesClassifier(n_estimators=600, random_state=100, min_samples_split=2)\n",
    "clf = clf.fit(features_train.values.reshape(-1, 1), target_train)\n",
    "y_pred = clf.predict(features_test.values.reshape(-1, 1))\n",
    "\n",
    "precision, recall, fscore, support = score(target_test, y_pred)\n",
    "\n",
    "print(\"accuracy : {}\".format(accuracy_score(target_test, y_pred, normalize=True)))\n",
    "print('precision: {}'.format(precision))\n",
    "print('recall: {}'.format(recall))\n",
    "print('fscore: {}'.format(fscore))\n",
    "print('support: {}'.format(support))\n",
    "\n",
    "confusion_matrix(target_test, y_pred)"
   ]
  },
  {
   "cell_type": "markdown",
   "metadata": {},
   "source": [
    "# Ada Boost"
   ]
  },
  {
   "cell_type": "code",
   "execution_count": 80,
   "metadata": {},
   "outputs": [
    {
     "name": "stdout",
     "output_type": "stream",
     "text": [
      "accuracy : 0.5876068376068376\n",
      "precision: [0.5        0.58874459 0.        ]\n",
      "recall: [0.01630435 0.98909091 0.        ]\n",
      "fscore: [0.03157895 0.73812754 0.        ]\n",
      "support: [184 275   9]\n"
     ]
    },
    {
     "name": "stderr",
     "output_type": "stream",
     "text": [
      "C:\\Users\\ASUS\\Anaconda3\\lib\\site-packages\\sklearn\\metrics\\classification.py:1135: UndefinedMetricWarning: Precision and F-score are ill-defined and being set to 0.0 in labels with no predicted samples.\n",
      "  'precision', 'predicted', average, warn_for)\n"
     ]
    },
    {
     "data": {
      "text/plain": [
       "array([[  3, 181,   0],\n",
       "       [  3, 272,   0],\n",
       "       [  0,   9,   0]], dtype=int64)"
      ]
     },
     "execution_count": 80,
     "metadata": {},
     "output_type": "execute_result"
    }
   ],
   "source": [
    "clf = AdaBoostClassifier(n_estimators=600, random_state=100)\n",
    "clf = clf.fit(features_train.values.reshape(-1, 1), target_train)\n",
    "y_pred = clf.predict(features_test.values.reshape(-1, 1))\n",
    "\n",
    "precision, recall, fscore, support = score(target_test, y_pred)\n",
    "\n",
    "print(\"accuracy : {}\".format(accuracy_score(target_test, y_pred, normalize=True)))\n",
    "print('precision: {}'.format(precision))\n",
    "print('recall: {}'.format(recall))\n",
    "print('fscore: {}'.format(fscore))\n",
    "print('support: {}'.format(support))\n",
    "\n",
    "confusion_matrix(target_test, y_pred)"
   ]
  },
  {
   "cell_type": "code",
   "execution_count": 81,
   "metadata": {},
   "outputs": [
    {
     "name": "stdout",
     "output_type": "stream",
     "text": [
      "accuracy : 0.5854700854700855\n",
      "precision: [0.42857143 0.58785249 0.        ]\n",
      "recall: [0.01630435 0.98545455 0.        ]\n",
      "fscore: [0.03141361 0.73641304 0.        ]\n",
      "support: [184 275   9]\n"
     ]
    },
    {
     "name": "stderr",
     "output_type": "stream",
     "text": [
      "C:\\Users\\ASUS\\Anaconda3\\lib\\site-packages\\sklearn\\metrics\\classification.py:1135: UndefinedMetricWarning: Precision and F-score are ill-defined and being set to 0.0 in labels with no predicted samples.\n",
      "  'precision', 'predicted', average, warn_for)\n"
     ]
    },
    {
     "data": {
      "text/plain": [
       "array([[  3, 181,   0],\n",
       "       [  4, 271,   0],\n",
       "       [  0,   9,   0]], dtype=int64)"
      ]
     },
     "execution_count": 81,
     "metadata": {},
     "output_type": "execute_result"
    }
   ],
   "source": [
    "clf = AdaBoostClassifier(DecisionTreeClassifier(max_depth=2),n_estimators=600, learning_rate=1, random_state=100)\n",
    "clf = clf.fit(features_train.values.reshape(-1, 1), target_train)\n",
    "y_pred = clf.predict(features_test.values.reshape(-1, 1))\n",
    "\n",
    "precision, recall, fscore, support = score(target_test, y_pred)\n",
    "\n",
    "print(\"accuracy : {}\".format(accuracy_score(target_test, y_pred, normalize=True)))\n",
    "print('precision: {}'.format(precision))\n",
    "print('recall: {}'.format(recall))\n",
    "print('fscore: {}'.format(fscore))\n",
    "print('support: {}'.format(support))\n",
    "\n",
    "confusion_matrix(target_test, y_pred)"
   ]
  },
  {
   "cell_type": "code",
   "execution_count": 95,
   "metadata": {},
   "outputs": [
    {
     "name": "stdout",
     "output_type": "stream",
     "text": [
      "accuracy : 0.561965811965812\n",
      "precision: [0.35      0.5817757 0.       ]\n",
      "recall: [0.07608696 0.90545455 0.        ]\n",
      "fscore: [0.125     0.7083926 0.       ]\n",
      "support: [184 275   9]\n"
     ]
    },
    {
     "name": "stderr",
     "output_type": "stream",
     "text": [
      "C:\\Users\\ASUS\\Anaconda3\\lib\\site-packages\\sklearn\\metrics\\classification.py:1135: UndefinedMetricWarning: Precision and F-score are ill-defined and being set to 0.0 in labels with no predicted samples.\n",
      "  'precision', 'predicted', average, warn_for)\n"
     ]
    },
    {
     "data": {
      "text/plain": [
       "array([[ 14, 170,   0],\n",
       "       [ 26, 249,   0],\n",
       "       [  0,   9,   0]], dtype=int64)"
      ]
     },
     "execution_count": 95,
     "metadata": {},
     "output_type": "execute_result"
    }
   ],
   "source": [
    "clf = AdaBoostClassifier(DecisionTreeClassifier(max_depth=2),n_estimators=600, learning_rate=1.5, algorithm=\"SAMME\", random_state=100)\n",
    "clf = clf.fit(features_train.values.reshape(-1, 1), target_train)\n",
    "y_pred = clf.predict(features_test.values.reshape(-1, 1))\n",
    "\n",
    "precision, recall, fscore, support = score(target_test, y_pred)\n",
    "\n",
    "print(\"accuracy : {}\".format(accuracy_score(target_test, y_pred, normalize=True)))\n",
    "print('precision: {}'.format(precision))\n",
    "print('recall: {}'.format(recall))\n",
    "print('fscore: {}'.format(fscore))\n",
    "print('support: {}'.format(support))\n",
    "\n",
    "confusion_matrix(target_test, y_pred)"
   ]
  },
  {
   "cell_type": "markdown",
   "metadata": {},
   "source": [
    "# Gradient Boosting"
   ]
  },
  {
   "cell_type": "code",
   "execution_count": 82,
   "metadata": {},
   "outputs": [
    {
     "name": "stdout",
     "output_type": "stream",
     "text": [
      "accuracy : 0.5854700854700855\n",
      "precision: [0.42857143 0.58785249 0.        ]\n",
      "recall: [0.01630435 0.98545455 0.        ]\n",
      "fscore: [0.03141361 0.73641304 0.        ]\n",
      "support: [184 275   9]\n"
     ]
    },
    {
     "name": "stderr",
     "output_type": "stream",
     "text": [
      "C:\\Users\\ASUS\\Anaconda3\\lib\\site-packages\\sklearn\\metrics\\classification.py:1135: UndefinedMetricWarning: Precision and F-score are ill-defined and being set to 0.0 in labels with no predicted samples.\n",
      "  'precision', 'predicted', average, warn_for)\n"
     ]
    },
    {
     "data": {
      "text/plain": [
       "array([[  3, 181,   0],\n",
       "       [  4, 271,   0],\n",
       "       [  0,   9,   0]], dtype=int64)"
      ]
     },
     "execution_count": 82,
     "metadata": {},
     "output_type": "execute_result"
    }
   ],
   "source": [
    "clf = GradientBoostingClassifier(n_estimators=600, learning_rate=0.5, max_depth=None, random_state=100)\n",
    "clf = clf.fit(features_train.values.reshape(-1, 1), target_train)\n",
    "y_pred = clf.predict(features_test.values.reshape(-1, 1))\n",
    "\n",
    "precision, recall, fscore, support = score(target_test, y_pred)\n",
    "\n",
    "print(\"accuracy : {}\".format(accuracy_score(target_test, y_pred, normalize=True)))\n",
    "print('precision: {}'.format(precision))\n",
    "print('recall: {}'.format(recall))\n",
    "print('fscore: {}'.format(fscore))\n",
    "print('support: {}'.format(support))\n",
    "\n",
    "confusion_matrix(target_test, y_pred)"
   ]
  },
  {
   "cell_type": "markdown",
   "metadata": {},
   "source": [
    "# Ada Boost Naive Bayes"
   ]
  },
  {
   "cell_type": "code",
   "execution_count": 84,
   "metadata": {},
   "outputs": [
    {
     "name": "stdout",
     "output_type": "stream",
     "text": [
      "accuracy : 0.5876068376068376\n",
      "precision: [0.         0.58760684 0.        ]\n",
      "recall: [0. 1. 0.]\n",
      "fscore: [0.         0.74024226 0.        ]\n",
      "support: [184 275   9]\n"
     ]
    },
    {
     "name": "stderr",
     "output_type": "stream",
     "text": [
      "C:\\Users\\ASUS\\Anaconda3\\lib\\site-packages\\sklearn\\metrics\\classification.py:1135: UndefinedMetricWarning: Precision and F-score are ill-defined and being set to 0.0 in labels with no predicted samples.\n",
      "  'precision', 'predicted', average, warn_for)\n"
     ]
    },
    {
     "data": {
      "text/plain": [
       "array([[  0, 184,   0],\n",
       "       [  0, 275,   0],\n",
       "       [  0,   9,   0]], dtype=int64)"
      ]
     },
     "execution_count": 84,
     "metadata": {},
     "output_type": "execute_result"
    }
   ],
   "source": [
    "clf = AdaBoostClassifier(GaussianNB(), n_estimators=600, learning_rate=0.1, random_state=100)\n",
    "clf = clf.fit(features_train.values.reshape(-1, 1), target_train)\n",
    "y_pred = clf.predict(features_test.values.reshape(-1, 1))\n",
    "\n",
    "precision, recall, fscore, support = score(target_test, y_pred)\n",
    "\n",
    "print(\"accuracy : {}\".format(accuracy_score(target_test, y_pred, normalize=True)))\n",
    "print('precision: {}'.format(precision))\n",
    "print('recall: {}'.format(recall))\n",
    "print('fscore: {}'.format(fscore))\n",
    "print('support: {}'.format(support))\n",
    "\n",
    "confusion_matrix(target_test, y_pred)"
   ]
  },
  {
   "cell_type": "markdown",
   "metadata": {},
   "source": [
    "# Bagging"
   ]
  },
  {
   "cell_type": "code",
   "execution_count": 93,
   "metadata": {},
   "outputs": [
    {
     "name": "stdout",
     "output_type": "stream",
     "text": [
      "accuracy : 0.5854700854700855\n",
      "precision: [0.42857143 0.58785249 0.        ]\n",
      "recall: [0.01630435 0.98545455 0.        ]\n",
      "fscore: [0.03141361 0.73641304 0.        ]\n",
      "support: [184 275   9]\n"
     ]
    },
    {
     "name": "stderr",
     "output_type": "stream",
     "text": [
      "C:\\Users\\ASUS\\Anaconda3\\lib\\site-packages\\sklearn\\metrics\\classification.py:1135: UndefinedMetricWarning: Precision and F-score are ill-defined and being set to 0.0 in labels with no predicted samples.\n",
      "  'precision', 'predicted', average, warn_for)\n"
     ]
    },
    {
     "data": {
      "text/plain": [
       "array([[  3, 181,   0],\n",
       "       [  4, 271,   0],\n",
       "       [  0,   9,   0]], dtype=int64)"
      ]
     },
     "execution_count": 93,
     "metadata": {},
     "output_type": "execute_result"
    }
   ],
   "source": [
    "clf = BaggingClassifier(n_estimators=600, random_state=100)\n",
    "clf = clf.fit(features_train.values.reshape(-1, 1), target_train)\n",
    "y_pred = clf.predict(features_test.values.reshape(-1, 1))\n",
    "\n",
    "precision, recall, fscore, support = score(target_test, y_pred)\n",
    "\n",
    "print(\"accuracy : {}\".format(accuracy_score(target_test, y_pred, normalize=True)))\n",
    "print('precision: {}'.format(precision))\n",
    "print('recall: {}'.format(recall))\n",
    "print('fscore: {}'.format(fscore))\n",
    "print('support: {}'.format(support))\n",
    "\n",
    "confusion_matrix(target_test, y_pred)"
   ]
  },
  {
   "cell_type": "code",
   "execution_count": 94,
   "metadata": {},
   "outputs": [
    {
     "name": "stdout",
     "output_type": "stream",
     "text": [
      "accuracy : 0.5876068376068376\n",
      "precision: [0.         0.58760684 0.        ]\n",
      "recall: [0. 1. 0.]\n",
      "fscore: [0.         0.74024226 0.        ]\n",
      "support: [184 275   9]\n"
     ]
    },
    {
     "name": "stderr",
     "output_type": "stream",
     "text": [
      "C:\\Users\\ASUS\\Anaconda3\\lib\\site-packages\\sklearn\\metrics\\classification.py:1135: UndefinedMetricWarning: Precision and F-score are ill-defined and being set to 0.0 in labels with no predicted samples.\n",
      "  'precision', 'predicted', average, warn_for)\n"
     ]
    },
    {
     "data": {
      "text/plain": [
       "array([[  0, 184,   0],\n",
       "       [  0, 275,   0],\n",
       "       [  0,   9,   0]], dtype=int64)"
      ]
     },
     "execution_count": 94,
     "metadata": {},
     "output_type": "execute_result"
    }
   ],
   "source": [
    "clf = BaggingClassifier(GaussianNB(),n_estimators=600, random_state=100)\n",
    "clf = clf.fit(features_train.values.reshape(-1, 1), target_train)\n",
    "y_pred = clf.predict(features_test.values.reshape(-1, 1))\n",
    "\n",
    "precision, recall, fscore, support = score(target_test, y_pred)\n",
    "\n",
    "print(\"accuracy : {}\".format(accuracy_score(target_test, y_pred, normalize=True)))\n",
    "print('precision: {}'.format(precision))\n",
    "print('recall: {}'.format(recall))\n",
    "print('fscore: {}'.format(fscore))\n",
    "print('support: {}'.format(support))\n",
    "\n",
    "confusion_matrix(target_test, y_pred)"
   ]
  },
  {
   "cell_type": "code",
   "execution_count": null,
   "metadata": {},
   "outputs": [],
   "source": []
  },
  {
   "cell_type": "code",
   "execution_count": null,
   "metadata": {},
   "outputs": [],
   "source": []
  }
 ],
 "metadata": {
  "kernelspec": {
   "display_name": "Python 3",
   "language": "python",
   "name": "python3"
  },
  "language_info": {
   "codemirror_mode": {
    "name": "ipython",
    "version": 3
   },
   "file_extension": ".py",
   "mimetype": "text/x-python",
   "name": "python",
   "nbconvert_exporter": "python",
   "pygments_lexer": "ipython3",
   "version": "3.6.5"
  }
 },
 "nbformat": 4,
 "nbformat_minor": 2
}
